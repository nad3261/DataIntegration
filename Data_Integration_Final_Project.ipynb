{
  "nbformat": 4,
  "nbformat_minor": 0,
  "metadata": {
    "colab": {
      "provenance": []
    },
    "kernelspec": {
      "name": "python3",
      "display_name": "Python 3"
    },
    "language_info": {
      "name": "python"
    }
  },
  "cells": [
    {
      "cell_type": "markdown",
      "source": [
        "Dataset: [here](https://www.kaggle.com/datasets/rdoume/beerreviews)"
      ],
      "metadata": {
        "id": "tcNzj8xNaKEW"
      }
    },
    {
      "cell_type": "markdown",
      "source": [
        "Dataset [here](https://www.kaggle.com/datasets/stephenpolozoff/top-beer-information/code)"
      ],
      "metadata": {
        "id": "rAEUXPJ4da_4"
      }
    },
    {
      "cell_type": "markdown",
      "source": [
        "##Importing modules\n"
      ],
      "metadata": {
        "id": "AzWi52OnHMXz"
      }
    },
    {
      "cell_type": "code",
      "source": [
        "pip install pyspark"
      ],
      "metadata": {
        "colab": {
          "base_uri": "https://localhost:8080/"
        },
        "id": "XKv-qsbzW5AM",
        "outputId": "748fc461-53b5-4e47-b359-8bb0b1d6a3c9"
      },
      "execution_count": 1,
      "outputs": [
        {
          "output_type": "stream",
          "name": "stdout",
          "text": [
            "Collecting pyspark\n",
            "  Downloading pyspark-3.5.1.tar.gz (317.0 MB)\n",
            "\u001b[2K     \u001b[90m━━━━━━━━━━━━━━━━━━━━━━━━━━━━━━━━━━━━━━━━\u001b[0m \u001b[32m317.0/317.0 MB\u001b[0m \u001b[31m2.4 MB/s\u001b[0m eta \u001b[36m0:00:00\u001b[0m\n",
            "\u001b[?25h  Preparing metadata (setup.py) ... \u001b[?25l\u001b[?25hdone\n",
            "Requirement already satisfied: py4j==0.10.9.7 in /usr/local/lib/python3.10/dist-packages (from pyspark) (0.10.9.7)\n",
            "Building wheels for collected packages: pyspark\n",
            "  Building wheel for pyspark (setup.py) ... \u001b[?25l\u001b[?25hdone\n",
            "  Created wheel for pyspark: filename=pyspark-3.5.1-py2.py3-none-any.whl size=317488491 sha256=25d859a6fadb5144d446fd2f3b97fa5bf5daf218f20faa90f2226ed547031ab1\n",
            "  Stored in directory: /root/.cache/pip/wheels/80/1d/60/2c256ed38dddce2fdd93be545214a63e02fbd8d74fb0b7f3a6\n",
            "Successfully built pyspark\n",
            "Installing collected packages: pyspark\n",
            "Successfully installed pyspark-3.5.1\n"
          ]
        }
      ]
    },
    {
      "cell_type": "code",
      "source": [
        "from pyspark.sql import SparkSession\n",
        "from pyspark.sql import SparkSession, functions as F\n",
        "from pyspark.sql.functions import concat, col\n",
        "import matplotlib.pyplot as plt\n",
        "from pyspark.sql.functions import desc\n",
        "from pyspark.sql.functions import col\n",
        "from pyspark.ml.feature import VectorAssembler\n",
        "from pyspark.ml.regression import LinearRegression\n",
        "from pyspark.ml.evaluation import RegressionEvaluator\n"
      ],
      "metadata": {
        "id": "tkqhEp5FHMBD"
      },
      "execution_count": 2,
      "outputs": []
    },
    {
      "cell_type": "markdown",
      "source": [],
      "metadata": {
        "id": "L16VjqmuHR1g"
      }
    },
    {
      "cell_type": "markdown",
      "source": [
        "#Initializing SparkSession and reading the dataset"
      ],
      "metadata": {
        "id": "g7XW88wMdd8v"
      }
    },
    {
      "cell_type": "code",
      "source": [
        "spark = SparkSession.builder.appName(\"Read CSV with PySpark\").getOrCreate()\n",
        "def read_csv(file_path):\n",
        "    return spark.read.csv(file_path, header=True, inferSchema=True)\n",
        "\n",
        "csv_file_paths = [\"beer_reviews.csv\", \"beer_data_set.csv\"]\n",
        "dataframes = list(map(read_csv, csv_file_paths))\n",
        "for i, df in enumerate(dataframes):\n",
        "    print(f\"DataFrame {i + 1}:\")\n",
        "    df.show()\n",
        "\n",
        "df1 = dataframes[0]\n",
        "df2 = dataframes[1]"
      ],
      "metadata": {
        "colab": {
          "base_uri": "https://localhost:8080/"
        },
        "id": "SC8WAJQqeMNt",
        "outputId": "5085d556-9452-4c63-9160-f3b941d90730"
      },
      "execution_count": 3,
      "outputs": [
        {
          "output_type": "stream",
          "name": "stdout",
          "text": [
            "DataFrame 1:\n",
            "+----------+--------------------+-----------+--------------+------------+-----------------+------------------+--------------------+-------------+------------+--------------------+--------+-----------+\n",
            "|brewery_id|        brewery_name|review_time|review_overall|review_aroma|review_appearance|review_profilename|          beer_style|review_palate|review_taste|           beer_name|beer_abv|beer_beerid|\n",
            "+----------+--------------------+-----------+--------------+------------+-----------------+------------------+--------------------+-------------+------------+--------------------+--------+-----------+\n",
            "|     10325|     Vecchio Birraio| 1234817823|           1.5|         2.0|              2.5|           stcules|          Hefeweizen|          1.5|         1.5|        Sausa Weizen|     5.0|      47986|\n",
            "|     10325|     Vecchio Birraio| 1235915097|           3.0|         2.5|              3.0|           stcules|  English Strong Ale|          3.0|         3.0|            Red Moon|     6.2|      48213|\n",
            "|     10325|     Vecchio Birraio| 1235916604|           3.0|         2.5|              3.0|           stcules|Foreign / Export ...|          3.0|         3.0|Black Horse Black...|     6.5|      48215|\n",
            "|     10325|     Vecchio Birraio| 1234725145|           3.0|         3.0|              3.5|           stcules|     German Pilsener|          2.5|         3.0|          Sausa Pils|     5.0|      47969|\n",
            "|      1075|Caldera Brewing C...| 1293735206|           4.0|         4.5|              4.0|    johnmichaelsen|American Double /...|          4.0|         4.5|       Cauldron DIPA|     7.7|      64883|\n",
            "|      1075|Caldera Brewing C...| 1325524659|           3.0|         3.5|              3.5|           oline73|Herbed / Spiced Beer|          3.0|         3.5| Caldera Ginger Beer|     4.7|      52159|\n",
            "|      1075|Caldera Brewing C...| 1318991115|           3.5|         3.5|              3.5|         Reidrover|Herbed / Spiced Beer|          4.0|         4.0| Caldera Ginger Beer|     4.7|      52159|\n",
            "|      1075|Caldera Brewing C...| 1306276018|           3.0|         2.5|              3.5|      alpinebryant|Herbed / Spiced Beer|          2.0|         3.5| Caldera Ginger Beer|     4.7|      52159|\n",
            "|      1075|Caldera Brewing C...| 1290454503|           4.0|         3.0|              3.5|     LordAdmNelson|Herbed / Spiced Beer|          3.5|         4.0| Caldera Ginger Beer|     4.7|      52159|\n",
            "|      1075|Caldera Brewing C...| 1285632924|           4.5|         3.5|              5.0|      augustgarage|Herbed / Spiced Beer|          4.0|         4.0| Caldera Ginger Beer|     4.7|      52159|\n",
            "|       163|Amstel Brouwerij ...| 1010963392|           3.0|         2.0|              3.0|           fodeeoz|         Light Lager|          2.5|         2.5|        Amstel Light|     3.5|        436|\n",
            "|      1075|Caldera Brewing C...| 1283154365|           5.0|         5.0|              4.0|      MadeInOregon|Herbed / Spiced Beer|          4.0|         4.0| Caldera Ginger Beer|     4.7|      52159|\n",
            "|      1075|Caldera Brewing C...| 1277557990|           4.0|         4.0|              4.0|           rawthar|Herbed / Spiced Beer|          3.5|         4.0| Caldera Ginger Beer|     4.7|      52159|\n",
            "|      1075|Caldera Brewing C...| 1275779250|           4.0|         4.5|              3.0|       Halcyondays|Herbed / Spiced Beer|          2.5|         3.0| Caldera Ginger Beer|     4.7|      52159|\n",
            "|      1075|Caldera Brewing C...| 1273109020|           3.5|         4.0|              3.0|       RangerClegg|Herbed / Spiced Beer|          3.0|         4.0| Caldera Ginger Beer|     4.7|      52159|\n",
            "|      1075|Caldera Brewing C...| 1316025612|           3.0|         3.0|              2.5|  Beerandraiderfan|       Oatmeal Stout|          3.0|         3.0|Caldera Oatmeal S...|     7.2|      10789|\n",
            "|      1075|Caldera Brewing C...| 1103502339|           2.0|         1.5|              2.5|        RedDiamond|       Oatmeal Stout|          2.5|         2.0|Caldera Oatmeal S...|     7.2|      10789|\n",
            "|      1075|Caldera Brewing C...| 1062311123|           4.0|         3.0|              4.0|        beerguy101| American Pale Lager|          4.0|         4.0|      Caldera OBF 15|     5.6|      12386|\n",
            "|       163|Amstel Brouwerij ...| 1010861086|           2.5|         3.0|              3.0|            jdhilt|         Light Lager|          2.0|         2.0|        Amstel Light|     3.5|        436|\n",
            "|      1075|Caldera Brewing C...| 1325478004|           4.5|         4.5|              3.0|       UCLABrewN84|           Rauchbier|          4.0|         4.5|       Rauch Ür Bock|     7.4|      58046|\n",
            "+----------+--------------------+-----------+--------------+------------+-----------------+------------------+--------------------+-------------+------------+--------------------+--------+-----------+\n",
            "only showing top 20 rows\n",
            "\n",
            "DataFrame 2:\n",
            "+--------------------+---+-------+---------+--------------------+--------------------+--------------------+----------+--------------------+--------------------+-----------+----+-------+------+-----+----+-----+------+-----+------+-----+\n",
            "|                Name|key|  Style|Style Key|             Brewery|         Description|                 ABV|Ave Rating|             Min IBU|             Max IBU|Astringency|Body|Alcohol|Bitter|Sweet|Sour|Salty|Fruits|Hoppy|Spices|Malty|\n",
            "+--------------------+---+-------+---------+--------------------+--------------------+--------------------+----------+--------------------+--------------------+-----------+----+-------+------+-----+----+-----+------+-----+------+-----+\n",
            "|               Amber|251|Altbier|        8| Alaskan Brewing Co.|\"Notes:Richly mal...|                 5.3|      3.65|                  25|                  50|         13|  32|      9|    47|   74|  33|    0|    33|   57|     8|  111|\n",
            "|          Double Bag|252|Altbier|        8|Long Trail Brewin...|Notes:This malty,...|                 7.2|       3.9|                  25|                  50|         12|  57|     18|    33|   55|  16|    0|    24|   35|    12|   84|\n",
            "|      Long Trail Ale|253|Altbier|        8|Long Trail Brewin...|Notes:Long Trail ...|                   5|      3.58|                  25|                  50|         14|  37|      6|    42|   43|  11|    0|    10|   54|     4|   62|\n",
            "|        Doppelsticke|254|Altbier|        8|Uerige Obergärige...|              Notes:|                 8.5|      4.15|                  25|                  50|         13|  55|     31|    47|  101|  18|    1|    49|   40|    16|  119|\n",
            "|              Scurry|255|Altbier|        8|   Off Color Brewing|Notes:Just cause ...|                 5.3|      3.67|                  25|                  50|         21|  69|     10|    63|  120|  14|    0|    19|   36|    15|  218|\n",
            "|Sleigh'r Dark Doü...|256|Altbier|        8|Ninkasi Brewing C...|Notes:Called 'Dar...|                 7.2|      3.78|                  25|                  50|         25|  51|     26|    44|   45|   9|    1|    11|   51|    20|   95|\n",
            "|              Sticke|257|Altbier|        8|Uerige Obergärige...|              Notes:|                   6|       4.1|                  25|                  50|         22|  45|     13|    46|   62|  25|    1|    34|   60|     4|  103|\n",
            "|   Okto Festival Ale|258|Altbier|        8|Widmer Brothers B...|Notes:Classified ...|                 5.3|      3.46|                  25|                  50|         28|  40|      3|    40|   58|  29|    0|    36|   54|     8|   97|\n",
            "| Southampton Altbier|259|Altbier|        8|Southampton Publi...|              Notes:|                   5|       3.6|                  25|                  50|         18|  49|      5|    37|   73|  22|    0|    21|   37|     4|   98|\n",
            "|              Copper|260|Altbier|        8|The Olde Mecklenb...|Notes:OMB’s flags...|                 4.8|       4.1|                  25|                  50|         25|  35|      4|    38|   39|  13|    1|     8|   60|    16|   97|\n",
            "| Organic Münster Alt|261|Altbier|        8|Brauerei Pinkus M...|              Notes:|                 5.1|       3.7|                  25|                  50|         35|  31|      5|    35|   50|  55|    5|    52|   66|     8|   77|\n",
            "|             Altbier|262|Altbier|        8|Uerige Obergärige...|Notes:Uerige Alt ...|                 4.7|         4|                  25|                  50|         34|  48|      9|    55|   59|  25|    1|    32|   68|    12|  121|\n",
            "|         Gerst Amber|263|Altbier|        8|Yazoo Brewing Com...|Notes:Check out a...|                 5.1|      3.54|                  25|                  50|         10|  19|      1|    21|   30|  11|    4|     8|   24|     2|   65|\n",
            "|        Ad Astra Ale|264|Altbier|        8|Free State Brewin...|\"Notes:This ale i...| Latin words mean...|   Caramel| and Munich malts...| and we've chosen...|        5.6|3.69|     25|    50|    7|  30|    5|    43|   43|    13|    1|\n",
            "|       Doppel Sticky|265|Altbier|        8|Lagunitas Brewing...|Notes:This fruity...|                 7.7|      4.07|                  25|                  50|         24|  44|     27|    79|   73|  88|    2|   114|   92|     9|   51|\n",
            "|      Copperhead Ale|266|Altbier|        8|Fordham Brewing C...|Notes:The name is...|                 5.2|      3.37|                  25|                  50|          9|  32|      9|    29|   54|  13|    1|    11|   32|     2|  112|\n",
            "|       Ten Years Alt|267|Altbier|        8|Victory Brewing C...|Notes:A Doppelsti...|                 8.5|      3.96|                  25|                  50|         14|  55|     31|    48|  105|  31|    0|    37|   59|    19|  115|\n",
            "|    Three Blind Mice|268|Altbier|        8|Mother's Brewing ...|Notes:Three Blind...|                 5.5|      3.57|                  25|                  50|         11|  58|      6|    47|   49|   5|    1|     3|   50|     5|  110|\n",
            "|             Ishmael|269|Altbier|        8|Rising Tide Brewi...|Notes:Ishmael is ...|                 4.9|      3.71|                  25|                  50|         17|  41|      1|    55|   43|  18|    1|    20|   80|     7|  103|\n",
            "|        Headwall Alt|270|Altbier|        8|Tuckerman Brewing...|Notes:This is tra...|                 4.5|      3.69|                  25|                  50|         19|  42|     13|    54|   62|  19|    0|    25|   64|    10|  135|\n",
            "+--------------------+---+-------+---------+--------------------+--------------------+--------------------+----------+--------------------+--------------------+-----------+----+-------+------+-----+----+-----+------+-----+------+-----+\n",
            "only showing top 20 rows\n",
            "\n"
          ]
        }
      ]
    },
    {
      "cell_type": "markdown",
      "source": [
        "#Searching for missing values"
      ],
      "metadata": {
        "id": "eqCu7AwUdhwU"
      }
    },
    {
      "cell_type": "code",
      "source": [
        "def count_missing(df):\n",
        "    missing_counts = {}\n",
        "    for col in df.columns:\n",
        "        missing_count = df.where(F.col(col).isNull()).count()\n",
        "        missing_counts[col] = missing_count\n",
        "    return missing_counts\n",
        "print(\"Part 1: Count of Missing Values\")\n",
        "def show_missing():\n",
        "  for i, df in enumerate(dataframes):\n",
        "      print(f\"DataFrame {i + 1}:\")\n",
        "      missing_counts = count_missing(df)\n",
        "      for col, count in missing_counts.items():\n",
        "          print(f\"{col}: {count}\")\n",
        "      print()\n",
        "show_missing()"
      ],
      "metadata": {
        "colab": {
          "base_uri": "https://localhost:8080/"
        },
        "id": "CJbWJLMTieJs",
        "outputId": "abbcb1c8-f631-45a6-838c-528371a2f324"
      },
      "execution_count": 4,
      "outputs": [
        {
          "output_type": "stream",
          "name": "stdout",
          "text": [
            "Part 1: Count of Missing Values\n",
            "DataFrame 1:\n",
            "brewery_id: 0\n",
            "brewery_name: 0\n",
            "review_time: 0\n",
            "review_overall: 0\n",
            "review_aroma: 0\n",
            "review_appearance: 0\n",
            "review_profilename: 13\n",
            "beer_style: 0\n",
            "review_palate: 0\n",
            "review_taste: 0\n",
            "beer_name: 0\n",
            "beer_abv: 2553\n",
            "beer_beerid: 0\n",
            "\n",
            "DataFrame 2:\n",
            "Name: 2\n",
            "key: 0\n",
            "Style: 0\n",
            "Style Key: 0\n",
            "Brewery: 0\n",
            "Description: 0\n",
            "ABV: 0\n",
            "Ave Rating: 0\n",
            "Min IBU: 0\n",
            "Max IBU: 0\n",
            "Astringency: 0\n",
            "Body: 0\n",
            "Alcohol: 0\n",
            "Bitter: 0\n",
            "Sweet: 0\n",
            "Sour: 0\n",
            "Salty: 0\n",
            "Fruits: 0\n",
            "Hoppy: 0\n",
            "Spices: 0\n",
            "Malty: 0\n",
            "\n"
          ]
        }
      ]
    },
    {
      "cell_type": "markdown",
      "source": [
        "#Dropping missing values"
      ],
      "metadata": {
        "id": "fEEn_Acydo48"
      }
    },
    {
      "cell_type": "code",
      "source": [
        "def drop_na():\n",
        "  for i, df in enumerate(dataframes):\n",
        "      dataframes[i] = df.dropna()\n",
        "drop_na()\n",
        "show_missing()"
      ],
      "metadata": {
        "colab": {
          "base_uri": "https://localhost:8080/"
        },
        "collapsed": true,
        "id": "efIN35XpVYOa",
        "outputId": "1d898ea7-25cc-49d0-97bf-28771226b317"
      },
      "execution_count": 5,
      "outputs": [
        {
          "output_type": "stream",
          "name": "stdout",
          "text": [
            "DataFrame 1:\n",
            "brewery_id: 0\n",
            "brewery_name: 0\n",
            "review_time: 0\n",
            "review_overall: 0\n",
            "review_aroma: 0\n",
            "review_appearance: 0\n",
            "review_profilename: 0\n",
            "beer_style: 0\n",
            "review_palate: 0\n",
            "review_taste: 0\n",
            "beer_name: 0\n",
            "beer_abv: 0\n",
            "beer_beerid: 0\n",
            "\n",
            "DataFrame 2:\n",
            "Name: 0\n",
            "key: 0\n",
            "Style: 0\n",
            "Style Key: 0\n",
            "Brewery: 0\n",
            "Description: 0\n",
            "ABV: 0\n",
            "Ave Rating: 0\n",
            "Min IBU: 0\n",
            "Max IBU: 0\n",
            "Astringency: 0\n",
            "Body: 0\n",
            "Alcohol: 0\n",
            "Bitter: 0\n",
            "Sweet: 0\n",
            "Sour: 0\n",
            "Salty: 0\n",
            "Fruits: 0\n",
            "Hoppy: 0\n",
            "Spices: 0\n",
            "Malty: 0\n",
            "\n"
          ]
        }
      ]
    },
    {
      "cell_type": "markdown",
      "source": [
        "#Creating unique key for both datasets, which contains information about brewery name and style of a beer"
      ],
      "metadata": {
        "id": "-l8Vb6nedv9J"
      }
    },
    {
      "cell_type": "code",
      "source": [
        "df2 = df2.withColumn(\"BreweryStyle\", concat(col(\"Brewery\"), col(\"style\")))\n",
        "print(\"DataFrame with new column 'BreweryStyle':\")\n",
        "df2.show()\n",
        "df1 = df1.withColumn(\"BreweryStyle\", concat(col(\"brewery_name\"), col(\"beer_style\")))\n",
        "print(\"DataFrame with new column 'BreweryStyle':\")\n",
        "df1.show()\n"
      ],
      "metadata": {
        "colab": {
          "base_uri": "https://localhost:8080/"
        },
        "id": "fFcyk68BnvG_",
        "outputId": "7ce68d59-da18-47e0-9795-ff66ba0a5d5c"
      },
      "execution_count": 6,
      "outputs": [
        {
          "output_type": "stream",
          "name": "stdout",
          "text": [
            "DataFrame with new column 'BreweryStyle':\n",
            "+--------------------+---+-------+---------+--------------------+--------------------+--------------------+----------+--------------------+--------------------+-----------+----+-------+------+-----+----+-----+------+-----+------+-----+--------------------+\n",
            "|                Name|key|  Style|Style Key|             Brewery|         Description|                 ABV|Ave Rating|             Min IBU|             Max IBU|Astringency|Body|Alcohol|Bitter|Sweet|Sour|Salty|Fruits|Hoppy|Spices|Malty|        BreweryStyle|\n",
            "+--------------------+---+-------+---------+--------------------+--------------------+--------------------+----------+--------------------+--------------------+-----------+----+-------+------+-----+----+-----+------+-----+------+-----+--------------------+\n",
            "|               Amber|251|Altbier|        8| Alaskan Brewing Co.|\"Notes:Richly mal...|                 5.3|      3.65|                  25|                  50|         13|  32|      9|    47|   74|  33|    0|    33|   57|     8|  111|Alaskan Brewing C...|\n",
            "|          Double Bag|252|Altbier|        8|Long Trail Brewin...|Notes:This malty,...|                 7.2|       3.9|                  25|                  50|         12|  57|     18|    33|   55|  16|    0|    24|   35|    12|   84|Long Trail Brewin...|\n",
            "|      Long Trail Ale|253|Altbier|        8|Long Trail Brewin...|Notes:Long Trail ...|                   5|      3.58|                  25|                  50|         14|  37|      6|    42|   43|  11|    0|    10|   54|     4|   62|Long Trail Brewin...|\n",
            "|        Doppelsticke|254|Altbier|        8|Uerige Obergärige...|              Notes:|                 8.5|      4.15|                  25|                  50|         13|  55|     31|    47|  101|  18|    1|    49|   40|    16|  119|Uerige Obergärige...|\n",
            "|              Scurry|255|Altbier|        8|   Off Color Brewing|Notes:Just cause ...|                 5.3|      3.67|                  25|                  50|         21|  69|     10|    63|  120|  14|    0|    19|   36|    15|  218|Off Color Brewing...|\n",
            "|Sleigh'r Dark Doü...|256|Altbier|        8|Ninkasi Brewing C...|Notes:Called 'Dar...|                 7.2|      3.78|                  25|                  50|         25|  51|     26|    44|   45|   9|    1|    11|   51|    20|   95|Ninkasi Brewing C...|\n",
            "|              Sticke|257|Altbier|        8|Uerige Obergärige...|              Notes:|                   6|       4.1|                  25|                  50|         22|  45|     13|    46|   62|  25|    1|    34|   60|     4|  103|Uerige Obergärige...|\n",
            "|   Okto Festival Ale|258|Altbier|        8|Widmer Brothers B...|Notes:Classified ...|                 5.3|      3.46|                  25|                  50|         28|  40|      3|    40|   58|  29|    0|    36|   54|     8|   97|Widmer Brothers B...|\n",
            "| Southampton Altbier|259|Altbier|        8|Southampton Publi...|              Notes:|                   5|       3.6|                  25|                  50|         18|  49|      5|    37|   73|  22|    0|    21|   37|     4|   98|Southampton Publi...|\n",
            "|              Copper|260|Altbier|        8|The Olde Mecklenb...|Notes:OMB’s flags...|                 4.8|       4.1|                  25|                  50|         25|  35|      4|    38|   39|  13|    1|     8|   60|    16|   97|The Olde Mecklenb...|\n",
            "| Organic Münster Alt|261|Altbier|        8|Brauerei Pinkus M...|              Notes:|                 5.1|       3.7|                  25|                  50|         35|  31|      5|    35|   50|  55|    5|    52|   66|     8|   77|Brauerei Pinkus M...|\n",
            "|             Altbier|262|Altbier|        8|Uerige Obergärige...|Notes:Uerige Alt ...|                 4.7|         4|                  25|                  50|         34|  48|      9|    55|   59|  25|    1|    32|   68|    12|  121|Uerige Obergärige...|\n",
            "|         Gerst Amber|263|Altbier|        8|Yazoo Brewing Com...|Notes:Check out a...|                 5.1|      3.54|                  25|                  50|         10|  19|      1|    21|   30|  11|    4|     8|   24|     2|   65|Yazoo Brewing Com...|\n",
            "|        Ad Astra Ale|264|Altbier|        8|Free State Brewin...|\"Notes:This ale i...| Latin words mean...|   Caramel| and Munich malts...| and we've chosen...|        5.6|3.69|     25|    50|    7|  30|    5|    43|   43|    13|    1|Free State Brewin...|\n",
            "|       Doppel Sticky|265|Altbier|        8|Lagunitas Brewing...|Notes:This fruity...|                 7.7|      4.07|                  25|                  50|         24|  44|     27|    79|   73|  88|    2|   114|   92|     9|   51|Lagunitas Brewing...|\n",
            "|      Copperhead Ale|266|Altbier|        8|Fordham Brewing C...|Notes:The name is...|                 5.2|      3.37|                  25|                  50|          9|  32|      9|    29|   54|  13|    1|    11|   32|     2|  112|Fordham Brewing C...|\n",
            "|       Ten Years Alt|267|Altbier|        8|Victory Brewing C...|Notes:A Doppelsti...|                 8.5|      3.96|                  25|                  50|         14|  55|     31|    48|  105|  31|    0|    37|   59|    19|  115|Victory Brewing C...|\n",
            "|    Three Blind Mice|268|Altbier|        8|Mother's Brewing ...|Notes:Three Blind...|                 5.5|      3.57|                  25|                  50|         11|  58|      6|    47|   49|   5|    1|     3|   50|     5|  110|Mother's Brewing ...|\n",
            "|             Ishmael|269|Altbier|        8|Rising Tide Brewi...|Notes:Ishmael is ...|                 4.9|      3.71|                  25|                  50|         17|  41|      1|    55|   43|  18|    1|    20|   80|     7|  103|Rising Tide Brewi...|\n",
            "|        Headwall Alt|270|Altbier|        8|Tuckerman Brewing...|Notes:This is tra...|                 4.5|      3.69|                  25|                  50|         19|  42|     13|    54|   62|  19|    0|    25|   64|    10|  135|Tuckerman Brewing...|\n",
            "+--------------------+---+-------+---------+--------------------+--------------------+--------------------+----------+--------------------+--------------------+-----------+----+-------+------+-----+----+-----+------+-----+------+-----+--------------------+\n",
            "only showing top 20 rows\n",
            "\n",
            "DataFrame with new column 'BreweryStyle':\n",
            "+----------+--------------------+-----------+--------------+------------+-----------------+------------------+--------------------+-------------+------------+--------------------+--------+-----------+--------------------+\n",
            "|brewery_id|        brewery_name|review_time|review_overall|review_aroma|review_appearance|review_profilename|          beer_style|review_palate|review_taste|           beer_name|beer_abv|beer_beerid|        BreweryStyle|\n",
            "+----------+--------------------+-----------+--------------+------------+-----------------+------------------+--------------------+-------------+------------+--------------------+--------+-----------+--------------------+\n",
            "|     10325|     Vecchio Birraio| 1234817823|           1.5|         2.0|              2.5|           stcules|          Hefeweizen|          1.5|         1.5|        Sausa Weizen|     5.0|      47986|Vecchio BirraioHe...|\n",
            "|     10325|     Vecchio Birraio| 1235915097|           3.0|         2.5|              3.0|           stcules|  English Strong Ale|          3.0|         3.0|            Red Moon|     6.2|      48213|Vecchio BirraioEn...|\n",
            "|     10325|     Vecchio Birraio| 1235916604|           3.0|         2.5|              3.0|           stcules|Foreign / Export ...|          3.0|         3.0|Black Horse Black...|     6.5|      48215|Vecchio BirraioFo...|\n",
            "|     10325|     Vecchio Birraio| 1234725145|           3.0|         3.0|              3.5|           stcules|     German Pilsener|          2.5|         3.0|          Sausa Pils|     5.0|      47969|Vecchio BirraioGe...|\n",
            "|      1075|Caldera Brewing C...| 1293735206|           4.0|         4.5|              4.0|    johnmichaelsen|American Double /...|          4.0|         4.5|       Cauldron DIPA|     7.7|      64883|Caldera Brewing C...|\n",
            "|      1075|Caldera Brewing C...| 1325524659|           3.0|         3.5|              3.5|           oline73|Herbed / Spiced Beer|          3.0|         3.5| Caldera Ginger Beer|     4.7|      52159|Caldera Brewing C...|\n",
            "|      1075|Caldera Brewing C...| 1318991115|           3.5|         3.5|              3.5|         Reidrover|Herbed / Spiced Beer|          4.0|         4.0| Caldera Ginger Beer|     4.7|      52159|Caldera Brewing C...|\n",
            "|      1075|Caldera Brewing C...| 1306276018|           3.0|         2.5|              3.5|      alpinebryant|Herbed / Spiced Beer|          2.0|         3.5| Caldera Ginger Beer|     4.7|      52159|Caldera Brewing C...|\n",
            "|      1075|Caldera Brewing C...| 1290454503|           4.0|         3.0|              3.5|     LordAdmNelson|Herbed / Spiced Beer|          3.5|         4.0| Caldera Ginger Beer|     4.7|      52159|Caldera Brewing C...|\n",
            "|      1075|Caldera Brewing C...| 1285632924|           4.5|         3.5|              5.0|      augustgarage|Herbed / Spiced Beer|          4.0|         4.0| Caldera Ginger Beer|     4.7|      52159|Caldera Brewing C...|\n",
            "|       163|Amstel Brouwerij ...| 1010963392|           3.0|         2.0|              3.0|           fodeeoz|         Light Lager|          2.5|         2.5|        Amstel Light|     3.5|        436|Amstel Brouwerij ...|\n",
            "|      1075|Caldera Brewing C...| 1283154365|           5.0|         5.0|              4.0|      MadeInOregon|Herbed / Spiced Beer|          4.0|         4.0| Caldera Ginger Beer|     4.7|      52159|Caldera Brewing C...|\n",
            "|      1075|Caldera Brewing C...| 1277557990|           4.0|         4.0|              4.0|           rawthar|Herbed / Spiced Beer|          3.5|         4.0| Caldera Ginger Beer|     4.7|      52159|Caldera Brewing C...|\n",
            "|      1075|Caldera Brewing C...| 1275779250|           4.0|         4.5|              3.0|       Halcyondays|Herbed / Spiced Beer|          2.5|         3.0| Caldera Ginger Beer|     4.7|      52159|Caldera Brewing C...|\n",
            "|      1075|Caldera Brewing C...| 1273109020|           3.5|         4.0|              3.0|       RangerClegg|Herbed / Spiced Beer|          3.0|         4.0| Caldera Ginger Beer|     4.7|      52159|Caldera Brewing C...|\n",
            "|      1075|Caldera Brewing C...| 1316025612|           3.0|         3.0|              2.5|  Beerandraiderfan|       Oatmeal Stout|          3.0|         3.0|Caldera Oatmeal S...|     7.2|      10789|Caldera Brewing C...|\n",
            "|      1075|Caldera Brewing C...| 1103502339|           2.0|         1.5|              2.5|        RedDiamond|       Oatmeal Stout|          2.5|         2.0|Caldera Oatmeal S...|     7.2|      10789|Caldera Brewing C...|\n",
            "|      1075|Caldera Brewing C...| 1062311123|           4.0|         3.0|              4.0|        beerguy101| American Pale Lager|          4.0|         4.0|      Caldera OBF 15|     5.6|      12386|Caldera Brewing C...|\n",
            "|       163|Amstel Brouwerij ...| 1010861086|           2.5|         3.0|              3.0|            jdhilt|         Light Lager|          2.0|         2.0|        Amstel Light|     3.5|        436|Amstel Brouwerij ...|\n",
            "|      1075|Caldera Brewing C...| 1325478004|           4.5|         4.5|              3.0|       UCLABrewN84|           Rauchbier|          4.0|         4.5|       Rauch Ür Bock|     7.4|      58046|Caldera Brewing C...|\n",
            "+----------+--------------------+-----------+--------------+------------+-----------------+------------------+--------------------+-------------+------------+--------------------+--------+-----------+--------------------+\n",
            "only showing top 20 rows\n",
            "\n"
          ]
        }
      ]
    },
    {
      "cell_type": "markdown",
      "source": [
        "#Concatenating dataframes based on unique id"
      ],
      "metadata": {
        "id": "FKvsshH6d5pJ"
      }
    },
    {
      "cell_type": "code",
      "source": [
        "mapped_df = df1.join(df2, df2[\"BreweryStyle\"] == df1[\"BreweryStyle\"], \"inner\")\n",
        "print(\"Mapped DataFrame:\")\n",
        "mapped_df.show()"
      ],
      "metadata": {
        "colab": {
          "base_uri": "https://localhost:8080/"
        },
        "id": "HPIqbT_Gm7mQ",
        "outputId": "53dca976-f5c2-408b-f2cc-3b72c9393a01"
      },
      "execution_count": 7,
      "outputs": [
        {
          "output_type": "stream",
          "name": "stdout",
          "text": [
            "Mapped DataFrame:\n",
            "+----------+--------------------+-----------+--------------+------------+-----------------+------------------+------------+-------------+------------+--------------------+--------+-----------+--------------------+----------+---+------------+---------+--------------------+--------------------+---+----------+-------+-------+-----------+----+-------+------+-----+----+-----+------+-----+------+-----+--------------------+\n",
            "|brewery_id|        brewery_name|review_time|review_overall|review_aroma|review_appearance|review_profilename|  beer_style|review_palate|review_taste|           beer_name|beer_abv|beer_beerid|        BreweryStyle|      Name|key|       Style|Style Key|             Brewery|         Description|ABV|Ave Rating|Min IBU|Max IBU|Astringency|Body|Alcohol|Bitter|Sweet|Sour|Salty|Fruits|Hoppy|Spices|Malty|        BreweryStyle|\n",
            "+----------+--------------------+-----------+--------------+------------+-----------------+------------------+------------+-------------+------------+--------------------+--------+-----------+--------------------+----------+---+------------+---------+--------------------+--------------------+---+----------+-------+-------+-----------+----+-------+------+-----+----+-----+------+-----+------+-----+--------------------+\n",
            "|       577|Isle Of Skye Brewery| 1131911132|           3.5|         3.5|              4.0|            wl0307|Scottish Ale|          4.0|         3.5|Devanha Scottish ...|     4.4|      26909|Isle Of Skye Brew...|Skye Black|650|Scottish Ale|       16|Isle Of Skye Brewery|Notes:Brewed with...|4.5|      3.85|      9|     25|         14|  71|     13|    51|   76|  17|    0|    32|   34|    18|  108|Isle Of Skye Brew...|\n",
            "|       577|Isle Of Skye Brewery| 1178305986|           4.5|         4.5|              4.0|         kmacphail|Scottish Ale|          4.5|         5.0|      Tigh Dearg Ale|     4.2|      36661|Isle Of Skye Brew...|Skye Black|650|Scottish Ale|       16|Isle Of Skye Brewery|Notes:Brewed with...|4.5|      3.85|      9|     25|         14|  71|     13|    51|   76|  17|    0|    32|   34|    18|  108|Isle Of Skye Brew...|\n",
            "|       577|Isle Of Skye Brewery| 1315619827|           3.5|         3.0|              4.0|            smcolw|Scottish Ale|          3.5|         3.5|              Blaven|    NULL|       7519|Isle Of Skye Brew...|Skye Black|650|Scottish Ale|       16|Isle Of Skye Brewery|Notes:Brewed with...|4.5|      3.85|      9|     25|         14|  71|     13|    51|   76|  17|    0|    32|   34|    18|  108|Isle Of Skye Brew...|\n",
            "|       577|Isle Of Skye Brewery| 1238360495|           4.0|         3.5|              4.0|           mduncan|Scottish Ale|          4.0|         4.0|              Blaven|    NULL|       7519|Isle Of Skye Brew...|Skye Black|650|Scottish Ale|       16|Isle Of Skye Brewery|Notes:Brewed with...|4.5|      3.85|      9|     25|         14|  71|     13|    51|   76|  17|    0|    32|   34|    18|  108|Isle Of Skye Brew...|\n",
            "|       577|Isle Of Skye Brewery| 1321795602|           4.5|         4.0|              4.0|          tenesmus|Scottish Ale|          4.5|         4.5|       Black Cuillin|     4.5|       1557|Isle Of Skye Brew...|Skye Black|650|Scottish Ale|       16|Isle Of Skye Brewery|Notes:Brewed with...|4.5|      3.85|      9|     25|         14|  71|     13|    51|   76|  17|    0|    32|   34|    18|  108|Isle Of Skye Brew...|\n",
            "|       577|Isle Of Skye Brewery| 1314821862|           4.0|         3.0|              4.0|            smcolw|Scottish Ale|          3.5|         3.5|       Black Cuillin|     4.5|       1557|Isle Of Skye Brew...|Skye Black|650|Scottish Ale|       16|Isle Of Skye Brewery|Notes:Brewed with...|4.5|      3.85|      9|     25|         14|  71|     13|    51|   76|  17|    0|    32|   34|    18|  108|Isle Of Skye Brew...|\n",
            "|       577|Isle Of Skye Brewery| 1299363864|           2.0|         2.5|              3.0|           GRG1313|Scottish Ale|          2.0|         2.0|       Black Cuillin|     4.5|       1557|Isle Of Skye Brew...|Skye Black|650|Scottish Ale|       16|Isle Of Skye Brewery|Notes:Brewed with...|4.5|      3.85|      9|     25|         14|  71|     13|    51|   76|  17|    0|    32|   34|    18|  108|Isle Of Skye Brew...|\n",
            "|       577|Isle Of Skye Brewery| 1298369299|           3.0|         2.0|              4.0|      MoreThanWine|Scottish Ale|          2.0|         3.0|       Black Cuillin|     4.5|       1557|Isle Of Skye Brew...|Skye Black|650|Scottish Ale|       16|Isle Of Skye Brewery|Notes:Brewed with...|4.5|      3.85|      9|     25|         14|  71|     13|    51|   76|  17|    0|    32|   34|    18|  108|Isle Of Skye Brew...|\n",
            "|       577|Isle Of Skye Brewery| 1294600202|           4.0|         3.5|              3.5|      BlackHaddock|Scottish Ale|          4.0|         4.0|       Black Cuillin|     4.5|       1557|Isle Of Skye Brew...|Skye Black|650|Scottish Ale|       16|Isle Of Skye Brewery|Notes:Brewed with...|4.5|      3.85|      9|     25|         14|  71|     13|    51|   76|  17|    0|    32|   34|    18|  108|Isle Of Skye Brew...|\n",
            "|       577|Isle Of Skye Brewery| 1291403524|           3.5|         4.0|              3.5|       StJamesGate|Scottish Ale|          4.0|         4.0|       Black Cuillin|     4.5|       1557|Isle Of Skye Brew...|Skye Black|650|Scottish Ale|       16|Isle Of Skye Brewery|Notes:Brewed with...|4.5|      3.85|      9|     25|         14|  71|     13|    51|   76|  17|    0|    32|   34|    18|  108|Isle Of Skye Brew...|\n",
            "|       577|Isle Of Skye Brewery| 1276539616|           3.5|         4.5|              4.0|            dqrull|Scottish Ale|          4.5|         3.5|       Black Cuillin|     4.5|       1557|Isle Of Skye Brew...|Skye Black|650|Scottish Ale|       16|Isle Of Skye Brewery|Notes:Brewed with...|4.5|      3.85|      9|     25|         14|  71|     13|    51|   76|  17|    0|    32|   34|    18|  108|Isle Of Skye Brew...|\n",
            "|       577|Isle Of Skye Brewery| 1258378177|           3.5|         3.5|              3.5|         mrmanning|Scottish Ale|          3.5|         3.5|       Black Cuillin|     4.5|       1557|Isle Of Skye Brew...|Skye Black|650|Scottish Ale|       16|Isle Of Skye Brewery|Notes:Brewed with...|4.5|      3.85|      9|     25|         14|  71|     13|    51|   76|  17|    0|    32|   34|    18|  108|Isle Of Skye Brew...|\n",
            "|       577|Isle Of Skye Brewery| 1249323801|           4.0|         3.5|              3.5|           seanyfo|Scottish Ale|          3.5|         3.5|       Black Cuillin|     4.5|       1557|Isle Of Skye Brew...|Skye Black|650|Scottish Ale|       16|Isle Of Skye Brewery|Notes:Brewed with...|4.5|      3.85|      9|     25|         14|  71|     13|    51|   76|  17|    0|    32|   34|    18|  108|Isle Of Skye Brew...|\n",
            "|       577|Isle Of Skye Brewery| 1248049536|           4.0|         4.0|              4.0|       Georgiabeer|Scottish Ale|          3.5|         4.0|       Black Cuillin|     4.5|       1557|Isle Of Skye Brew...|Skye Black|650|Scottish Ale|       16|Isle Of Skye Brewery|Notes:Brewed with...|4.5|      3.85|      9|     25|         14|  71|     13|    51|   76|  17|    0|    32|   34|    18|  108|Isle Of Skye Brew...|\n",
            "|       577|Isle Of Skye Brewery| 1247093150|           4.0|         4.0|              4.5|            jdhilt|Scottish Ale|          4.0|         4.0|       Black Cuillin|     4.5|       1557|Isle Of Skye Brew...|Skye Black|650|Scottish Ale|       16|Isle Of Skye Brewery|Notes:Brewed with...|4.5|      3.85|      9|     25|         14|  71|     13|    51|   76|  17|    0|    32|   34|    18|  108|Isle Of Skye Brew...|\n",
            "|       577|Isle Of Skye Brewery| 1246316406|           4.0|         4.5|              4.5|   GratefulBeerGuy|Scottish Ale|          3.5|         4.0|       Black Cuillin|     4.5|       1557|Isle Of Skye Brew...|Skye Black|650|Scottish Ale|       16|Isle Of Skye Brewery|Notes:Brewed with...|4.5|      3.85|      9|     25|         14|  71|     13|    51|   76|  17|    0|    32|   34|    18|  108|Isle Of Skye Brew...|\n",
            "|       577|Isle Of Skye Brewery| 1238359978|           4.0|         4.5|              4.0|           mduncan|Scottish Ale|          4.0|         4.0|       Black Cuillin|     4.5|       1557|Isle Of Skye Brew...|Skye Black|650|Scottish Ale|       16|Isle Of Skye Brewery|Notes:Brewed with...|4.5|      3.85|      9|     25|         14|  71|     13|    51|   76|  17|    0|    32|   34|    18|  108|Isle Of Skye Brew...|\n",
            "|       577|Isle Of Skye Brewery| 1237154788|           4.0|         3.5|              4.0|           ybnorml|Scottish Ale|          4.0|         4.5|       Black Cuillin|     4.5|       1557|Isle Of Skye Brew...|Skye Black|650|Scottish Ale|       16|Isle Of Skye Brewery|Notes:Brewed with...|4.5|      3.85|      9|     25|         14|  71|     13|    51|   76|  17|    0|    32|   34|    18|  108|Isle Of Skye Brew...|\n",
            "|       577|Isle Of Skye Brewery| 1236572039|           4.0|         3.5|              4.5|           Brad007|Scottish Ale|          4.0|         4.0|       Black Cuillin|     4.5|       1557|Isle Of Skye Brew...|Skye Black|650|Scottish Ale|       16|Isle Of Skye Brewery|Notes:Brewed with...|4.5|      3.85|      9|     25|         14|  71|     13|    51|   76|  17|    0|    32|   34|    18|  108|Isle Of Skye Brew...|\n",
            "|       577|Isle Of Skye Brewery| 1234885012|           3.0|         3.5|              4.5|             Jeffo|Scottish Ale|          3.0|         3.0|       Black Cuillin|     4.5|       1557|Isle Of Skye Brew...|Skye Black|650|Scottish Ale|       16|Isle Of Skye Brewery|Notes:Brewed with...|4.5|      3.85|      9|     25|         14|  71|     13|    51|   76|  17|    0|    32|   34|    18|  108|Isle Of Skye Brew...|\n",
            "+----------+--------------------+-----------+--------------+------------+-----------------+------------------+------------+-------------+------------+--------------------+--------+-----------+--------------------+----------+---+------------+---------+--------------------+--------------------+---+----------+-------+-------+-----------+----+-------+------+-----+----+-----+------+-----+------+-----+--------------------+\n",
            "only showing top 20 rows\n",
            "\n"
          ]
        }
      ]
    },
    {
      "cell_type": "markdown",
      "source": [
        "#Creating a new column, which combines rating of a beer from two datasets and gives mean of those 2 values. Beforehand it replaces all non numeric values inside this coulmn with a mean of this column"
      ],
      "metadata": {
        "id": "tmS37CAJd-62"
      }
    },
    {
      "cell_type": "code",
      "source": [
        "columns_to_process = [\"review_overall\", \"Ave Rating\"]\n",
        "def calculate_mean(df, col_name):\n",
        "    numeric_values = df.filter(df[col_name].cast(\"float\").isNotNull())\n",
        "    sum_count = numeric_values.select(F.sum(col_name).alias('sum'), F.count(col_name).alias('count')).collect()[0]\n",
        "    total_sum = sum_count['sum']\n",
        "    total_count = sum_count['count']\n",
        "    mean_value = total_sum / total_count\n",
        "    return mean_value\n",
        "\n",
        "def replace_non_numeric_with_mean(df, col_name, mean_value):\n",
        "    df = df.withColumn(col_name, F.when(df[col_name].cast(\"float\").isNotNull(), df[col_name]).otherwise(mean_value))\n",
        "    return df\n",
        "\n",
        "\n",
        "def process_dataframe(df):\n",
        "    for col in columns_to_process:\n",
        "        mean_value = calculate_mean(df, col)\n",
        "        df = replace_non_numeric_with_mean(df, col, mean_value)\n",
        "    return df\n",
        "\n",
        "mapped_df = process_dataframe(mapped_df)\n",
        "\n",
        "\n",
        "mapped_df = mapped_df.withColumn(\"overall_average\",\n",
        "                                 (F.col(\"review_overall\").cast(\"float\") + F.col(\"Ave Rating\").cast(\"float\")) / 2)\n",
        "\n",
        "\n",
        "print(\"Mapped DataFrame after processing:\")\n",
        "mapped_df.show()"
      ],
      "metadata": {
        "colab": {
          "base_uri": "https://localhost:8080/"
        },
        "id": "_cc4ASrZTU48",
        "outputId": "07653e68-e4d7-4788-8311-7c9ebae0bcde"
      },
      "execution_count": 8,
      "outputs": [
        {
          "output_type": "stream",
          "name": "stdout",
          "text": [
            "Mapped DataFrame after processing:\n",
            "+----------+--------------------+-----------+--------------+------------+-----------------+------------------+------------+-------------+------------+--------------------+--------+-----------+--------------------+----------+---+------------+---------+--------------------+--------------------+---+----------+-------+-------+-----------+----+-------+------+-----+----+-----+------+-----+------+-----+--------------------+-----------------+\n",
            "|brewery_id|        brewery_name|review_time|review_overall|review_aroma|review_appearance|review_profilename|  beer_style|review_palate|review_taste|           beer_name|beer_abv|beer_beerid|        BreweryStyle|      Name|key|       Style|Style Key|             Brewery|         Description|ABV|Ave Rating|Min IBU|Max IBU|Astringency|Body|Alcohol|Bitter|Sweet|Sour|Salty|Fruits|Hoppy|Spices|Malty|        BreweryStyle|  overall_average|\n",
            "+----------+--------------------+-----------+--------------+------------+-----------------+------------------+------------+-------------+------------+--------------------+--------+-----------+--------------------+----------+---+------------+---------+--------------------+--------------------+---+----------+-------+-------+-----------+----+-------+------+-----+----+-----+------+-----+------+-----+--------------------+-----------------+\n",
            "|       577|Isle Of Skye Brewery| 1131911132|           3.5|         3.5|              4.0|            wl0307|Scottish Ale|          4.0|         3.5|Devanha Scottish ...|     4.4|      26909|Isle Of Skye Brew...|Skye Black|650|Scottish Ale|       16|Isle Of Skye Brewery|Notes:Brewed with...|4.5|      3.85|      9|     25|         14|  71|     13|    51|   76|  17|    0|    32|   34|    18|  108|Isle Of Skye Brew...|3.674999952316284|\n",
            "|       577|Isle Of Skye Brewery| 1178305986|           4.5|         4.5|              4.0|         kmacphail|Scottish Ale|          4.5|         5.0|      Tigh Dearg Ale|     4.2|      36661|Isle Of Skye Brew...|Skye Black|650|Scottish Ale|       16|Isle Of Skye Brewery|Notes:Brewed with...|4.5|      3.85|      9|     25|         14|  71|     13|    51|   76|  17|    0|    32|   34|    18|  108|Isle Of Skye Brew...|4.175000190734863|\n",
            "|       577|Isle Of Skye Brewery| 1315619827|           3.5|         3.0|              4.0|            smcolw|Scottish Ale|          3.5|         3.5|              Blaven|    NULL|       7519|Isle Of Skye Brew...|Skye Black|650|Scottish Ale|       16|Isle Of Skye Brewery|Notes:Brewed with...|4.5|      3.85|      9|     25|         14|  71|     13|    51|   76|  17|    0|    32|   34|    18|  108|Isle Of Skye Brew...|3.674999952316284|\n",
            "|       577|Isle Of Skye Brewery| 1238360495|           4.0|         3.5|              4.0|           mduncan|Scottish Ale|          4.0|         4.0|              Blaven|    NULL|       7519|Isle Of Skye Brew...|Skye Black|650|Scottish Ale|       16|Isle Of Skye Brewery|Notes:Brewed with...|4.5|      3.85|      9|     25|         14|  71|     13|    51|   76|  17|    0|    32|   34|    18|  108|Isle Of Skye Brew...|3.924999952316284|\n",
            "|       577|Isle Of Skye Brewery| 1321795602|           4.5|         4.0|              4.0|          tenesmus|Scottish Ale|          4.5|         4.5|       Black Cuillin|     4.5|       1557|Isle Of Skye Brew...|Skye Black|650|Scottish Ale|       16|Isle Of Skye Brewery|Notes:Brewed with...|4.5|      3.85|      9|     25|         14|  71|     13|    51|   76|  17|    0|    32|   34|    18|  108|Isle Of Skye Brew...|4.175000190734863|\n",
            "|       577|Isle Of Skye Brewery| 1314821862|           4.0|         3.0|              4.0|            smcolw|Scottish Ale|          3.5|         3.5|       Black Cuillin|     4.5|       1557|Isle Of Skye Brew...|Skye Black|650|Scottish Ale|       16|Isle Of Skye Brewery|Notes:Brewed with...|4.5|      3.85|      9|     25|         14|  71|     13|    51|   76|  17|    0|    32|   34|    18|  108|Isle Of Skye Brew...|3.924999952316284|\n",
            "|       577|Isle Of Skye Brewery| 1299363864|           2.0|         2.5|              3.0|           GRG1313|Scottish Ale|          2.0|         2.0|       Black Cuillin|     4.5|       1557|Isle Of Skye Brew...|Skye Black|650|Scottish Ale|       16|Isle Of Skye Brewery|Notes:Brewed with...|4.5|      3.85|      9|     25|         14|  71|     13|    51|   76|  17|    0|    32|   34|    18|  108|Isle Of Skye Brew...|2.924999952316284|\n",
            "|       577|Isle Of Skye Brewery| 1298369299|           3.0|         2.0|              4.0|      MoreThanWine|Scottish Ale|          2.0|         3.0|       Black Cuillin|     4.5|       1557|Isle Of Skye Brew...|Skye Black|650|Scottish Ale|       16|Isle Of Skye Brewery|Notes:Brewed with...|4.5|      3.85|      9|     25|         14|  71|     13|    51|   76|  17|    0|    32|   34|    18|  108|Isle Of Skye Brew...|3.424999952316284|\n",
            "|       577|Isle Of Skye Brewery| 1294600202|           4.0|         3.5|              3.5|      BlackHaddock|Scottish Ale|          4.0|         4.0|       Black Cuillin|     4.5|       1557|Isle Of Skye Brew...|Skye Black|650|Scottish Ale|       16|Isle Of Skye Brewery|Notes:Brewed with...|4.5|      3.85|      9|     25|         14|  71|     13|    51|   76|  17|    0|    32|   34|    18|  108|Isle Of Skye Brew...|3.924999952316284|\n",
            "|       577|Isle Of Skye Brewery| 1291403524|           3.5|         4.0|              3.5|       StJamesGate|Scottish Ale|          4.0|         4.0|       Black Cuillin|     4.5|       1557|Isle Of Skye Brew...|Skye Black|650|Scottish Ale|       16|Isle Of Skye Brewery|Notes:Brewed with...|4.5|      3.85|      9|     25|         14|  71|     13|    51|   76|  17|    0|    32|   34|    18|  108|Isle Of Skye Brew...|3.674999952316284|\n",
            "|       577|Isle Of Skye Brewery| 1276539616|           3.5|         4.5|              4.0|            dqrull|Scottish Ale|          4.5|         3.5|       Black Cuillin|     4.5|       1557|Isle Of Skye Brew...|Skye Black|650|Scottish Ale|       16|Isle Of Skye Brewery|Notes:Brewed with...|4.5|      3.85|      9|     25|         14|  71|     13|    51|   76|  17|    0|    32|   34|    18|  108|Isle Of Skye Brew...|3.674999952316284|\n",
            "|       577|Isle Of Skye Brewery| 1258378177|           3.5|         3.5|              3.5|         mrmanning|Scottish Ale|          3.5|         3.5|       Black Cuillin|     4.5|       1557|Isle Of Skye Brew...|Skye Black|650|Scottish Ale|       16|Isle Of Skye Brewery|Notes:Brewed with...|4.5|      3.85|      9|     25|         14|  71|     13|    51|   76|  17|    0|    32|   34|    18|  108|Isle Of Skye Brew...|3.674999952316284|\n",
            "|       577|Isle Of Skye Brewery| 1249323801|           4.0|         3.5|              3.5|           seanyfo|Scottish Ale|          3.5|         3.5|       Black Cuillin|     4.5|       1557|Isle Of Skye Brew...|Skye Black|650|Scottish Ale|       16|Isle Of Skye Brewery|Notes:Brewed with...|4.5|      3.85|      9|     25|         14|  71|     13|    51|   76|  17|    0|    32|   34|    18|  108|Isle Of Skye Brew...|3.924999952316284|\n",
            "|       577|Isle Of Skye Brewery| 1248049536|           4.0|         4.0|              4.0|       Georgiabeer|Scottish Ale|          3.5|         4.0|       Black Cuillin|     4.5|       1557|Isle Of Skye Brew...|Skye Black|650|Scottish Ale|       16|Isle Of Skye Brewery|Notes:Brewed with...|4.5|      3.85|      9|     25|         14|  71|     13|    51|   76|  17|    0|    32|   34|    18|  108|Isle Of Skye Brew...|3.924999952316284|\n",
            "|       577|Isle Of Skye Brewery| 1247093150|           4.0|         4.0|              4.5|            jdhilt|Scottish Ale|          4.0|         4.0|       Black Cuillin|     4.5|       1557|Isle Of Skye Brew...|Skye Black|650|Scottish Ale|       16|Isle Of Skye Brewery|Notes:Brewed with...|4.5|      3.85|      9|     25|         14|  71|     13|    51|   76|  17|    0|    32|   34|    18|  108|Isle Of Skye Brew...|3.924999952316284|\n",
            "|       577|Isle Of Skye Brewery| 1246316406|           4.0|         4.5|              4.5|   GratefulBeerGuy|Scottish Ale|          3.5|         4.0|       Black Cuillin|     4.5|       1557|Isle Of Skye Brew...|Skye Black|650|Scottish Ale|       16|Isle Of Skye Brewery|Notes:Brewed with...|4.5|      3.85|      9|     25|         14|  71|     13|    51|   76|  17|    0|    32|   34|    18|  108|Isle Of Skye Brew...|3.924999952316284|\n",
            "|       577|Isle Of Skye Brewery| 1238359978|           4.0|         4.5|              4.0|           mduncan|Scottish Ale|          4.0|         4.0|       Black Cuillin|     4.5|       1557|Isle Of Skye Brew...|Skye Black|650|Scottish Ale|       16|Isle Of Skye Brewery|Notes:Brewed with...|4.5|      3.85|      9|     25|         14|  71|     13|    51|   76|  17|    0|    32|   34|    18|  108|Isle Of Skye Brew...|3.924999952316284|\n",
            "|       577|Isle Of Skye Brewery| 1237154788|           4.0|         3.5|              4.0|           ybnorml|Scottish Ale|          4.0|         4.5|       Black Cuillin|     4.5|       1557|Isle Of Skye Brew...|Skye Black|650|Scottish Ale|       16|Isle Of Skye Brewery|Notes:Brewed with...|4.5|      3.85|      9|     25|         14|  71|     13|    51|   76|  17|    0|    32|   34|    18|  108|Isle Of Skye Brew...|3.924999952316284|\n",
            "|       577|Isle Of Skye Brewery| 1236572039|           4.0|         3.5|              4.5|           Brad007|Scottish Ale|          4.0|         4.0|       Black Cuillin|     4.5|       1557|Isle Of Skye Brew...|Skye Black|650|Scottish Ale|       16|Isle Of Skye Brewery|Notes:Brewed with...|4.5|      3.85|      9|     25|         14|  71|     13|    51|   76|  17|    0|    32|   34|    18|  108|Isle Of Skye Brew...|3.924999952316284|\n",
            "|       577|Isle Of Skye Brewery| 1234885012|           3.0|         3.5|              4.5|             Jeffo|Scottish Ale|          3.0|         3.0|       Black Cuillin|     4.5|       1557|Isle Of Skye Brew...|Skye Black|650|Scottish Ale|       16|Isle Of Skye Brewery|Notes:Brewed with...|4.5|      3.85|      9|     25|         14|  71|     13|    51|   76|  17|    0|    32|   34|    18|  108|Isle Of Skye Brew...|3.424999952316284|\n",
            "+----------+--------------------+-----------+--------------+------------+-----------------+------------------+------------+-------------+------------+--------------------+--------+-----------+--------------------+----------+---+------------+---------+--------------------+--------------------+---+----------+-------+-------+-----------+----+-------+------+-----+----+-----+------+-----+------+-----+--------------------+-----------------+\n",
            "only showing top 20 rows\n",
            "\n"
          ]
        }
      ]
    },
    {
      "cell_type": "markdown",
      "source": [
        "#Displaying Top 10 breweries based on average rating"
      ],
      "metadata": {
        "id": "tr9aALVneQVO"
      }
    },
    {
      "cell_type": "code",
      "source": [
        "spark = SparkSession.builder.appName(\"Top Breweries by Mean Rating\").getOrCreate()\n",
        "mapped_df2 = mapped_df.groupBy(\"brewery_id\") \\\n",
        "                      .agg(F.mean(\"overall_average\").alias(\"brewery_mean_rating\"))\n",
        "\n",
        "mapped_df2_top10 = mapped_df2.orderBy(F.desc(\"brewery_mean_rating\")) \\\n",
        "                             .limit(10)\n",
        "top10_with_names = mapped_df2_top10.join(mapped_df.select(\"brewery_id\", \"brewery_name\").distinct(), \"brewery_id\", \"left\") \\\n",
        "                                   .select(\"brewery_id\", \"brewery_name\", \"brewery_mean_rating\")\n",
        "\n",
        "\n",
        "print(\"Top 10 Breweries by Mean Rating:\")\n",
        "top10_with_names.show()\n"
      ],
      "metadata": {
        "colab": {
          "base_uri": "https://localhost:8080/"
        },
        "id": "_vTx0z6JLQKp",
        "outputId": "77f5cc9e-ab3c-4b2c-a181-79c0b836d4ee"
      },
      "execution_count": 10,
      "outputs": [
        {
          "output_type": "stream",
          "name": "stdout",
          "text": [
            "Top 10 Breweries by Mean Rating:\n",
            "+----------+--------------------+-------------------+\n",
            "|brewery_id|        brewery_name|brewery_mean_rating|\n",
            "+----------+--------------------+-------------------+\n",
            "|      1199|Founders Brewing ...|  4.100182919693314|\n",
            "|     15636|Calapooia Brewing...| 3.9533332188924155|\n",
            "|       140|Sierra Nevada Bre...| 3.9476500864751034|\n",
            "|     16866|          The Bruery|  3.911328013216863|\n",
            "|       577|Isle Of Skye Brewery|   3.86578947619388|\n",
            "|       729|Palmetto Brewing ...|  3.759999990463257|\n",
            "|       394| Stoudts Brewing Co.|  3.759957399774105|\n",
            "|       161|Florida Beer Company|  3.704999828338623|\n",
            "|       339|Flying Fish Brewi...|  3.704202773630755|\n",
            "|     14879|Hoppin' Frog Brewery|    3.6636991441063|\n",
            "+----------+--------------------+-------------------+\n",
            "\n"
          ]
        }
      ]
    },
    {
      "cell_type": "code",
      "source": [
        "top10_with_names_pd = top10_with_names.toPandas()\n",
        "\n",
        "top10_with_names_pd = top10_with_names_pd.sort_values(by=\"brewery_mean_rating\", ascending=False)\n",
        "\n",
        "plt.figure(figsize=(12, 8))\n",
        "plt.barh(top10_with_names_pd['brewery_name'], top10_with_names_pd['brewery_mean_rating'], color='#1E90FF')\n",
        "plt.xlabel('Overall Mean Rating')\n",
        "plt.ylabel('Brewery Name')\n",
        "plt.title('Top 10 Breweries with highest average rating')\n",
        "plt.gca().invert_yaxis()\n",
        "plt.show()"
      ],
      "metadata": {
        "colab": {
          "base_uri": "https://localhost:8080/",
          "height": 718
        },
        "id": "ee8d0fkXbIdq",
        "outputId": "479dd21d-0497-4cf7-df87-87d1f3e05cdc"
      },
      "execution_count": 25,
      "outputs": [
        {
          "output_type": "display_data",
          "data": {
            "text/plain": [
              "<Figure size 1200x800 with 1 Axes>"
            ],
            "image/png": "[encoded data removed]"
          },
          "metadata": {}
        }
      ]
    },
    {
      "cell_type": "markdown",
      "source": [
        "#Top 10 beer styles based on average rating"
      ],
      "metadata": {
        "id": "01G4EdI-eVlE"
      }
    },
    {
      "cell_type": "code",
      "source": [
        "styles_df = mapped_df.groupBy(\"beer_style\") \\\n",
        "                     .agg(F.mean(\"overall_average\").alias(\"style_mean_rating\"))\n",
        "\n",
        "\n",
        "styles_df_top5 = styles_df.orderBy(F.desc(\"style_mean_rating\")).limit(5)\n",
        "\n",
        "\n",
        "styles_df_top5_pd = styles_df_top5.toPandas()\n",
        "\n",
        "\n",
        "styles_df_top5_pd = styles_df_top5_pd.sort_values(by=\"style_mean_rating\", ascending=False)\n",
        "\n",
        "\n",
        "plt.figure(figsize=(10, 8))\n",
        "plt.barh(styles_df_top5_pd['beer_style'], styles_df_top5_pd['style_mean_rating'], color='#1E90FF')\n",
        "plt.xlabel('Overall Mean Rating')\n",
        "plt.ylabel('Beer Style')\n",
        "plt.title('Top 5 Beer Styles by Mean Rating')\n",
        "plt.gca().invert_yaxis()\n",
        "plt.show()"
      ],
      "metadata": {
        "colab": {
          "base_uri": "https://localhost:8080/",
          "height": 718
        },
        "id": "u3qeJd6ccIQT",
        "outputId": "efea94f6-804a-458b-b836-3ff305ec1349"
      },
      "execution_count": 28,
      "outputs": [
        {
          "output_type": "display_data",
          "data": {
            "text/plain": [
              "<Figure size 1000x800 with 1 Axes>"
            ],
            "image/png": "[encoded data removed]"
          },
          "metadata": {}
        }
      ]
    },
    {
      "cell_type": "markdown",
      "source": [
        "#Seleting columns to perform machine learning"
      ],
      "metadata": {
        "id": "456dI94ReaL0"
      }
    },
    {
      "cell_type": "code",
      "source": [
        "columns_to_select = [\"Min IBU\", \"Max IBU\", \"Astringency\", \"Body\", \"Alcohol\", \"Bitter\", \"Sweet\", \"Sour\", \"Salty\", \"Fruits\", \"Hoppy\", \"Spices\", \"Malty\",\"overall_average\"]\n",
        "selected_df = mapped_df.select(columns_to_select)\n",
        "for col_name in columns_to_select:\n",
        "    selected_df = selected_df.withColumn(col_name, col(col_name).cast(\"integer\"))\n",
        "selected_df.show()"
      ],
      "metadata": {
        "colab": {
          "base_uri": "https://localhost:8080/"
        },
        "id": "1dc_-DXLnK9y",
        "outputId": "60fccf73-5fae-44e1-a1bf-69cce29ba2f2"
      },
      "execution_count": 26,
      "outputs": [
        {
          "output_type": "stream",
          "name": "stdout",
          "text": [
            "+-------+-------+-----------+----+-------+------+-----+----+-----+------+-----+------+-----+---------------+\n",
            "|Min IBU|Max IBU|Astringency|Body|Alcohol|Bitter|Sweet|Sour|Salty|Fruits|Hoppy|Spices|Malty|overall_average|\n",
            "+-------+-------+-----------+----+-------+------+-----+----+-----+------+-----+------+-----+---------------+\n",
            "|      9|     25|         14|  71|     13|    51|   76|  17|    0|    32|   34|    18|  108|              3|\n",
            "|      9|     25|         14|  71|     13|    51|   76|  17|    0|    32|   34|    18|  108|              4|\n",
            "|      9|     25|         14|  71|     13|    51|   76|  17|    0|    32|   34|    18|  108|              3|\n",
            "|      9|     25|         14|  71|     13|    51|   76|  17|    0|    32|   34|    18|  108|              3|\n",
            "|      9|     25|         14|  71|     13|    51|   76|  17|    0|    32|   34|    18|  108|              4|\n",
            "|      9|     25|         14|  71|     13|    51|   76|  17|    0|    32|   34|    18|  108|              3|\n",
            "|      9|     25|         14|  71|     13|    51|   76|  17|    0|    32|   34|    18|  108|              2|\n",
            "|      9|     25|         14|  71|     13|    51|   76|  17|    0|    32|   34|    18|  108|              3|\n",
            "|      9|     25|         14|  71|     13|    51|   76|  17|    0|    32|   34|    18|  108|              3|\n",
            "|      9|     25|         14|  71|     13|    51|   76|  17|    0|    32|   34|    18|  108|              3|\n",
            "|      9|     25|         14|  71|     13|    51|   76|  17|    0|    32|   34|    18|  108|              3|\n",
            "|      9|     25|         14|  71|     13|    51|   76|  17|    0|    32|   34|    18|  108|              3|\n",
            "|      9|     25|         14|  71|     13|    51|   76|  17|    0|    32|   34|    18|  108|              3|\n",
            "|      9|     25|         14|  71|     13|    51|   76|  17|    0|    32|   34|    18|  108|              3|\n",
            "|      9|     25|         14|  71|     13|    51|   76|  17|    0|    32|   34|    18|  108|              3|\n",
            "|      9|     25|         14|  71|     13|    51|   76|  17|    0|    32|   34|    18|  108|              3|\n",
            "|      9|     25|         14|  71|     13|    51|   76|  17|    0|    32|   34|    18|  108|              3|\n",
            "|      9|     25|         14|  71|     13|    51|   76|  17|    0|    32|   34|    18|  108|              3|\n",
            "|      9|     25|         14|  71|     13|    51|   76|  17|    0|    32|   34|    18|  108|              3|\n",
            "|      9|     25|         14|  71|     13|    51|   76|  17|    0|    32|   34|    18|  108|              3|\n",
            "+-------+-------+-----------+----+-------+------+-----+----+-----+------+-----+------+-----+---------------+\n",
            "only showing top 20 rows\n",
            "\n"
          ]
        }
      ]
    },
    {
      "cell_type": "markdown",
      "source": [
        "#Machine Learning"
      ],
      "metadata": {
        "id": "avh9BO5oi1aj"
      }
    },
    {
      "cell_type": "markdown",
      "source": [
        "Performing machine learning, to predict rating of a beer with performance evaluation metrics(RMSE,R2,Intercept) also displaying coeficients for each feature. This code is also available for docker, adjust hdfs ath, and run docker file(also in this git hub folder)"
      ],
      "metadata": {
        "id": "09EmYVBdedUV"
      }
    },
    {
      "cell_type": "code",
      "source": [
        "spark = SparkSession.builder \\\n",
        "    .appName(\"Beer Ratings Linear Regression\") \\\n",
        "    .getOrCreate()\n",
        "\n",
        "# hdfs_path = \"path to this file\" to run docker file, adjust this path\n",
        "\n",
        "columns_to_select = [\"Min IBU\", \"Max IBU\", \"Astringency\", \"Body\", \"Alcohol\",\n",
        "                     \"Bitter\", \"Sweet\", \"Sour\", \"Salty\", \"Fruits\", \"Hoppy\",\n",
        "                     \"Spices\", \"Malty\", \"overall_average\"]\n",
        "\n",
        "selected_df = mapped_df.select(columns_to_select)\n",
        "\n",
        "for col_name in columns_to_select:\n",
        "    selected_df = selected_df.withColumn(col_name, col(col_name).cast(\"integer\"))\n",
        "\n",
        "feature_columns = columns_to_select[:-1]\n",
        "assembler = VectorAssembler(inputCols=feature_columns, outputCol=\"features\", handleInvalid=\"skip\")\n",
        "assembled_df = assembler.transform(selected_df.na.drop(subset=feature_columns))\n",
        "\n",
        "\n",
        "(training_data, test_data) = assembled_df.randomSplit([0.8, 0.2], seed=1234)\n",
        "lr = LinearRegression(featuresCol=\"features\", labelCol=\"overall_average\")\n",
        "\n",
        "\n",
        "lr_model = lr.fit(training_data)\n",
        "\n",
        "predictions = lr_model.transform(test_data)\n",
        "\n",
        "\n",
        "evaluator = RegressionEvaluator(labelCol=\"overall_average\", predictionCol=\"prediction\", metricName=\"rmse\")\n",
        "rmse = evaluator.evaluate(predictions)\n",
        "print(f\"Root Mean Squared Error (RMSE): {rmse}\")\n",
        "\n",
        "print(f\"Coefficients: {lr_model.coefficients}\")\n",
        "print(f\"Intercept: {lr_model.intercept}\")\n",
        "r2 = evaluator.evaluate(predictions, {evaluator.metricName: \"r2\"})\n",
        "print(f\"R-squared (R2): {r2}\")"
      ],
      "metadata": {
        "colab": {
          "base_uri": "https://localhost:8080/"
        },
        "id": "97hgT6qUdknz",
        "outputId": "3126303b-777d-4692-bc1f-ccc426eda814"
      },
      "execution_count": 27,
      "outputs": [
        {
          "output_type": "stream",
          "name": "stdout",
          "text": [
            "Root Mean Squared Error (RMSE): 0.45508062607183275\n",
            "Coefficients: [0.017348540780726066,0.01821001479173194,0.01201626735288886,0.009427166016958003,0.0034909141462331024,-0.032941330039395554,-0.011838108028770292,-0.027757358367532653,-0.09383986460549891,0.0199951707888611,0.008243057052669221,-0.009764134532767938,0.011527902997282326]\n",
            "Intercept: 2.461824550192584\n",
            "R-squared (R2): 0.26585467940289687\n"
          ]
        }
      ]
    }
  ]
}